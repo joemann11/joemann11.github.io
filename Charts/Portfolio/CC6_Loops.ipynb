{
  "nbformat": 4,
  "nbformat_minor": 0,
  "metadata": {
    "colab": {
      "provenance": []
    },
    "kernelspec": {
      "name": "python3",
      "display_name": "Python 3"
    },
    "language_info": {
      "name": "python"
    }
  },
  "cells": [
    {
      "cell_type": "code",
      "source": [
        "import requests\n",
        "import json\n",
        "import os\n",
        "import shutil\n",
        "from google.colab import files\n",
        "\n",
        "# Structure for fetching data from the ONS\n",
        "url_base = \"https://api.beta.ons.gov.uk/v1/data?uri={}\"\n",
        "ons_series = [\n",
        "    \"/economy/grossdomesticproductgdp/timeseries/abmi/pn2\",\n",
        "    \"/economy/inflationandpriceindices/timeseries/l55o/mm23\",\n",
        "    \"/employmentandlabourmarket/peopleinwork/employmentandemployeetypes/timeseries/mgrz/lms\",\n",
        "    \"/economy/governmentpublicsectorandtaxes/publicsectorfinance/timeseries/dzls/pusf\",\n",
        "    \"/economy/grossdomesticproductgdp/timeseries/ihyp/pn2\",\n",
        "    \"/economy/governmentpublicsectorandtaxes/publicsectorfinance/timeseries/ansq/pusf\",\n",
        "    \"/economy/grossdomesticproductgdp/timeseries/dtwm/pn2\",\n",
        "    \"/employmentandlabourmarket/peoplenotinwork/outofworkbenefits/timeseries/vass/unem\",\n",
        "    \"/employmentandlabourmarket/peopleinwork/labourproductivity/timeseries/lnno/prdy\"]\n",
        "ons_ID = [\"ABMI\", \"L55O\", \"MGRZ\", \"DZLS\", \"IHYP\", \"ANSQ\", \"DTWM\", \"LMSB\", \"LNNO\"]\n",
        "\n",
        "# Create a directory for saving data\n",
        "new_directory = \"CC6_Data\"\n",
        "if not os.path.exists(new_directory):\n",
        "    os.makedirs(new_directory)\n",
        "\n",
        "# Fetching and saving ONS data\n",
        "for uri, series_id in zip(ons_series, ons_ID):\n",
        "    url = url_base.format(uri)  # Build the URL\n",
        "    response = requests.get(url)\n",
        "    if response.status_code == 200:  # Check if the request was successful\n",
        "            data = response.json()\n",
        "            file_path = os.path.join(new_directory, f\"CC6_Data_{series_id}.json\") # Create tailored file names\n",
        "            with open(file_path, 'w') as file:\n",
        "                json.dump(data, file, indent=4)  # Save data to JSON file\n",
        "\n",
        "# Create a zip of the new directory & download accordingly\n",
        "shutil.make_archive('CC6_Data', 'zip', new_directory)\n",
        "files.download('CC6_Data.zip')\n"
      ],
      "metadata": {
        "colab": {
          "base_uri": "https://localhost:8080/",
          "height": 17
        },
        "id": "llLA1oaW4n0s",
        "outputId": "93990c05-10d3-4d68-9758-5ef62b7a601c"
      },
      "execution_count": 19,
      "outputs": [
        {
          "output_type": "display_data",
          "data": {
            "text/plain": [
              "<IPython.core.display.Javascript object>"
            ],
            "application/javascript": [
              "\n",
              "    async function download(id, filename, size) {\n",
              "      if (!google.colab.kernel.accessAllowed) {\n",
              "        return;\n",
              "      }\n",
              "      const div = document.createElement('div');\n",
              "      const label = document.createElement('label');\n",
              "      label.textContent = `Downloading \"${filename}\": `;\n",
              "      div.appendChild(label);\n",
              "      const progress = document.createElement('progress');\n",
              "      progress.max = size;\n",
              "      div.appendChild(progress);\n",
              "      document.body.appendChild(div);\n",
              "\n",
              "      const buffers = [];\n",
              "      let downloaded = 0;\n",
              "\n",
              "      const channel = await google.colab.kernel.comms.open(id);\n",
              "      // Send a message to notify the kernel that we're ready.\n",
              "      channel.send({})\n",
              "\n",
              "      for await (const message of channel.messages) {\n",
              "        // Send a message to notify the kernel that we're ready.\n",
              "        channel.send({})\n",
              "        if (message.buffers) {\n",
              "          for (const buffer of message.buffers) {\n",
              "            buffers.push(buffer);\n",
              "            downloaded += buffer.byteLength;\n",
              "            progress.value = downloaded;\n",
              "          }\n",
              "        }\n",
              "      }\n",
              "      const blob = new Blob(buffers, {type: 'application/binary'});\n",
              "      const a = document.createElement('a');\n",
              "      a.href = window.URL.createObjectURL(blob);\n",
              "      a.download = filename;\n",
              "      div.appendChild(a);\n",
              "      a.click();\n",
              "      div.remove();\n",
              "    }\n",
              "  "
            ]
          },
          "metadata": {}
        },
        {
          "output_type": "display_data",
          "data": {
            "text/plain": [
              "<IPython.core.display.Javascript object>"
            ],
            "application/javascript": [
              "download(\"download_88b9182c-f13e-49c2-8dc3-3a619aea9cc0\", \"CC6_Data.zip\", 86636)"
            ]
          },
          "metadata": {}
        }
      ]
    }
  ]
}